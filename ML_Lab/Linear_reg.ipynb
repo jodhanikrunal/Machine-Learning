{
 "cells": [
  {
   "cell_type": "markdown",
   "metadata": {},
   "source": [
    "AIM : Implement the Linear regression and gradient descent from scratch using\n",
    "      numpy.."
   ]
  },
  {
   "cell_type": "markdown",
   "metadata": {},
   "source": [
    "ID_NO : 21CE045"
   ]
  },
  {
   "cell_type": "code",
   "execution_count": 1,
   "metadata": {},
   "outputs": [],
   "source": [
    "import numpy as np\n",
    "import pandas as pd"
   ]
  },
  {
   "cell_type": "code",
   "execution_count": 2,
   "metadata": {},
   "outputs": [
    {
     "name": "stdout",
     "output_type": "stream",
     "text": [
      "   x  y\n",
      "0  1  2\n",
      "1  2  4\n"
     ]
    }
   ],
   "source": [
    "df = pd .DataFrame({'x': [1, 2], 'y': [2, 4]})\n",
    "print(df)"
   ]
  },
  {
   "cell_type": "code",
   "execution_count": 3,
   "metadata": {},
   "outputs": [
    {
     "ename": "AttributeError",
     "evalue": "'DataFrame' object has no attribute 'append'",
     "output_type": "error",
     "traceback": [
      "\u001b[1;31m---------------------------------------------------------------------------\u001b[0m",
      "\u001b[1;31mAttributeError\u001b[0m                            Traceback (most recent call last)",
      "\u001b[1;32me:\\Machine-Learning\\ML_Lab\\Linear_reg.ipynb Cell 5\u001b[0m line \u001b[0;36m9\n\u001b[0;32m      <a href='vscode-notebook-cell:/e%3A/Machine-Learning/ML_Lab/Linear_reg.ipynb#W4sZmlsZQ%3D%3D?line=6'>7</a>\u001b[0m \u001b[39mfor\u001b[39;00m i \u001b[39min\u001b[39;00m \u001b[39mrange\u001b[39m(\u001b[39mlen\u001b[39m(df)):\n\u001b[0;32m      <a href='vscode-notebook-cell:/e%3A/Machine-Learning/ML_Lab/Linear_reg.ipynb#W4sZmlsZQ%3D%3D?line=7'>8</a>\u001b[0m     the \u001b[39m=\u001b[39m theta0 \u001b[39m+\u001b[39m (theta1 \u001b[39m*\u001b[39m df[\u001b[39m'\u001b[39m\u001b[39mx\u001b[39m\u001b[39m'\u001b[39m][i])\n\u001b[1;32m----> <a href='vscode-notebook-cell:/e%3A/Machine-Learning/ML_Lab/Linear_reg.ipynb#W4sZmlsZQ%3D%3D?line=8'>9</a>\u001b[0m     theta \u001b[39m=\u001b[39m theta\u001b[39m.\u001b[39;49mappend({\u001b[39m'\u001b[39m\u001b[39mtheta\u001b[39m\u001b[39m'\u001b[39m: the}, ignore_index\u001b[39m=\u001b[39m\u001b[39mTrue\u001b[39;00m)\n\u001b[0;32m     <a href='vscode-notebook-cell:/e%3A/Machine-Learning/ML_Lab/Linear_reg.ipynb#W4sZmlsZQ%3D%3D?line=9'>10</a>\u001b[0m \u001b[39mprint\u001b[39m(\u001b[39m'\u001b[39m\u001b[39mHtheta is:\u001b[39m\u001b[39m'\u001b[39m, theta)\n",
      "File \u001b[1;32mc:\\Users\\91834\\.conda\\envs\\ML_CLub\\lib\\site-packages\\pandas\\core\\generic.py:5989\u001b[0m, in \u001b[0;36mNDFrame.__getattr__\u001b[1;34m(self, name)\u001b[0m\n\u001b[0;32m   5982\u001b[0m \u001b[39mif\u001b[39;00m (\n\u001b[0;32m   5983\u001b[0m     name \u001b[39mnot\u001b[39;00m \u001b[39min\u001b[39;00m \u001b[39mself\u001b[39m\u001b[39m.\u001b[39m_internal_names_set\n\u001b[0;32m   5984\u001b[0m     \u001b[39mand\u001b[39;00m name \u001b[39mnot\u001b[39;00m \u001b[39min\u001b[39;00m \u001b[39mself\u001b[39m\u001b[39m.\u001b[39m_metadata\n\u001b[0;32m   5985\u001b[0m     \u001b[39mand\u001b[39;00m name \u001b[39mnot\u001b[39;00m \u001b[39min\u001b[39;00m \u001b[39mself\u001b[39m\u001b[39m.\u001b[39m_accessors\n\u001b[0;32m   5986\u001b[0m     \u001b[39mand\u001b[39;00m \u001b[39mself\u001b[39m\u001b[39m.\u001b[39m_info_axis\u001b[39m.\u001b[39m_can_hold_identifiers_and_holds_name(name)\n\u001b[0;32m   5987\u001b[0m ):\n\u001b[0;32m   5988\u001b[0m     \u001b[39mreturn\u001b[39;00m \u001b[39mself\u001b[39m[name]\n\u001b[1;32m-> 5989\u001b[0m \u001b[39mreturn\u001b[39;00m \u001b[39mobject\u001b[39;49m\u001b[39m.\u001b[39;49m\u001b[39m__getattribute__\u001b[39;49m(\u001b[39mself\u001b[39;49m, name)\n",
      "\u001b[1;31mAttributeError\u001b[0m: 'DataFrame' object has no attribute 'append'"
     ]
    }
   ],
   "source": [
    "# Let assume theta0=0.4,theta1=0.4,alpha=0.01 and m=3\n",
    "theta0 = 0.4\n",
    "theta1 = 0.4\n",
    "alpha = 0.01\n",
    "m = 3\n",
    "theta = pd.DataFrame(columns=['theta'])\n",
    "for i in range(len(df)):\n",
    "    the = theta0 + (theta1 * df['x'][i])\n",
    "    theta = theta.append({'theta': the}, ignore_index=True)\n",
    "print('Htheta is:', theta)\n"
   ]
  },
  {
   "cell_type": "code",
   "execution_count": null,
   "metadata": {},
   "outputs": [
    {
     "name": "stdout",
     "output_type": "stream",
     "text": [
      "Loss function is j=  1.3466666666666665\n"
     ]
    }
   ],
   "source": [
    "j = 0\n",
    "for i in range(len(theta)):\n",
    "    j = j + np.square((theta['theta'][i] - df['y'][i]))\n",
    "    j = j / (2*m)\n",
    "print('Loss function is j= ', j)\n"
   ]
  },
  {
   "cell_type": "code",
   "execution_count": null,
   "metadata": {},
   "outputs": [
    {
     "name": "stdout",
     "output_type": "stream",
     "text": [
      "new value of theta0 =  0.8173333333333334\n"
     ]
    }
   ],
   "source": [
    "jtheta0=0\n",
    "temp=0\n",
    "for i in range (len (theta)):\n",
    "    temp+=theta[ 'theta' ][i] -df[ 'y' ][i]\n",
    "    jtheta0+=theta0- (alpha*(temp/ m))\n",
    "print (\"new value of theta0 = \", jtheta0)"
   ]
  },
  {
   "cell_type": "code",
   "execution_count": null,
   "metadata": {},
   "outputs": [
    {
     "name": "stdout",
     "output_type": "stream",
     "text": [
      "new value of thetal =  0.4226666666666667\n"
     ]
    }
   ],
   "source": [
    "jtheta1 = 0\n",
    "temp = 0\n",
    "for i in range(len(theta)):\n",
    "    temp += (theta['theta'][i] - df['y'][i]) * df['x'][i]\n",
    "\n",
    "jtheta1 += theta0 - (alpha*(temp / m))\n",
    "print(\"new value of thetal = \", jtheta1)\n"
   ]
  },
  {
   "cell_type": "code",
   "execution_count": null,
   "metadata": {},
   "outputs": [
    {
     "name": "stdout",
     "output_type": "stream",
     "text": [
      "prediction is: 0.8\n"
     ]
    }
   ],
   "source": [
    "# prediction\n",
    "x = 1\n",
    "y = theta0 + (theta1 * x)\n",
    "print('prediction is:', y)\n"
   ]
  }
 ],
 "metadata": {
  "kernelspec": {
   "display_name": "Python 3",
   "language": "python",
   "name": "python3"
  },
  "language_info": {
   "codemirror_mode": {
    "name": "ipython",
    "version": 3
   },
   "file_extension": ".py",
   "mimetype": "text/x-python",
   "name": "python",
   "nbconvert_exporter": "python",
   "pygments_lexer": "ipython3",
   "version": "3.10.12"
  },
  "orig_nbformat": 4
 },
 "nbformat": 4,
 "nbformat_minor": 2
}
