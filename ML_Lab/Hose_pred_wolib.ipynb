{
 "cells": [
  {
   "cell_type": "code",
   "execution_count": 43,
   "metadata": {},
   "outputs": [],
   "source": [
    "import numpy as np\n",
    "import pandas as pd\n",
    "import matplotlib as plt\n",
    "from sklearn.model_selection import train_test_split\n",
    "from sklearn.preprocessing import LabelEncoder\n",
    "from sklearn.linear_model import LinearRegression"
   ]
  },
  {
   "cell_type": "code",
   "execution_count": 44,
   "metadata": {},
   "outputs": [
    {
     "data": {
      "text/html": [
       "<div>\n",
       "<style scoped>\n",
       "    .dataframe tbody tr th:only-of-type {\n",
       "        vertical-align: middle;\n",
       "    }\n",
       "\n",
       "    .dataframe tbody tr th {\n",
       "        vertical-align: top;\n",
       "    }\n",
       "\n",
       "    .dataframe thead th {\n",
       "        text-align: right;\n",
       "    }\n",
       "</style>\n",
       "<table border=\"1\" class=\"dataframe\">\n",
       "  <thead>\n",
       "    <tr style=\"text-align: right;\">\n",
       "      <th></th>\n",
       "      <th>LATITUDE</th>\n",
       "      <th>LONGITUDE</th>\n",
       "      <th>PARCELNO</th>\n",
       "      <th>SALE_PRC</th>\n",
       "      <th>LND_SQFOOT</th>\n",
       "      <th>TOT_LVG_AREA</th>\n",
       "      <th>SPEC_FEAT_VAL</th>\n",
       "      <th>RAIL_DIST</th>\n",
       "      <th>OCEAN_DIST</th>\n",
       "      <th>WATER_DIST</th>\n",
       "      <th>CNTR_DIST</th>\n",
       "      <th>SUBCNTR_DI</th>\n",
       "      <th>HWY_DIST</th>\n",
       "      <th>age</th>\n",
       "      <th>avno60plus</th>\n",
       "      <th>month_sold</th>\n",
       "      <th>structure_quality</th>\n",
       "    </tr>\n",
       "  </thead>\n",
       "  <tbody>\n",
       "    <tr>\n",
       "      <th>0</th>\n",
       "      <td>25.891031</td>\n",
       "      <td>-80.160561</td>\n",
       "      <td>622280070620</td>\n",
       "      <td>440000.0</td>\n",
       "      <td>9375</td>\n",
       "      <td>1753</td>\n",
       "      <td>0</td>\n",
       "      <td>2815.9</td>\n",
       "      <td>12811.4</td>\n",
       "      <td>347.6</td>\n",
       "      <td>42815.3</td>\n",
       "      <td>37742.2</td>\n",
       "      <td>15954.9</td>\n",
       "      <td>67</td>\n",
       "      <td>0</td>\n",
       "      <td>8</td>\n",
       "      <td>4</td>\n",
       "    </tr>\n",
       "    <tr>\n",
       "      <th>1</th>\n",
       "      <td>25.891324</td>\n",
       "      <td>-80.153968</td>\n",
       "      <td>622280100460</td>\n",
       "      <td>349000.0</td>\n",
       "      <td>9375</td>\n",
       "      <td>1715</td>\n",
       "      <td>0</td>\n",
       "      <td>4359.1</td>\n",
       "      <td>10648.4</td>\n",
       "      <td>337.8</td>\n",
       "      <td>43504.9</td>\n",
       "      <td>37340.5</td>\n",
       "      <td>18125.0</td>\n",
       "      <td>63</td>\n",
       "      <td>0</td>\n",
       "      <td>9</td>\n",
       "      <td>4</td>\n",
       "    </tr>\n",
       "    <tr>\n",
       "      <th>2</th>\n",
       "      <td>25.891334</td>\n",
       "      <td>-80.153740</td>\n",
       "      <td>622280100470</td>\n",
       "      <td>800000.0</td>\n",
       "      <td>9375</td>\n",
       "      <td>2276</td>\n",
       "      <td>49206</td>\n",
       "      <td>4412.9</td>\n",
       "      <td>10574.1</td>\n",
       "      <td>297.1</td>\n",
       "      <td>43530.4</td>\n",
       "      <td>37328.7</td>\n",
       "      <td>18200.5</td>\n",
       "      <td>61</td>\n",
       "      <td>0</td>\n",
       "      <td>2</td>\n",
       "      <td>4</td>\n",
       "    </tr>\n",
       "    <tr>\n",
       "      <th>3</th>\n",
       "      <td>25.891765</td>\n",
       "      <td>-80.152657</td>\n",
       "      <td>622280100530</td>\n",
       "      <td>988000.0</td>\n",
       "      <td>12450</td>\n",
       "      <td>2058</td>\n",
       "      <td>10033</td>\n",
       "      <td>4585.0</td>\n",
       "      <td>10156.5</td>\n",
       "      <td>0.0</td>\n",
       "      <td>43797.5</td>\n",
       "      <td>37423.2</td>\n",
       "      <td>18514.4</td>\n",
       "      <td>63</td>\n",
       "      <td>0</td>\n",
       "      <td>9</td>\n",
       "      <td>4</td>\n",
       "    </tr>\n",
       "    <tr>\n",
       "      <th>4</th>\n",
       "      <td>25.891825</td>\n",
       "      <td>-80.154639</td>\n",
       "      <td>622280100200</td>\n",
       "      <td>755000.0</td>\n",
       "      <td>12800</td>\n",
       "      <td>1684</td>\n",
       "      <td>16681</td>\n",
       "      <td>4063.4</td>\n",
       "      <td>10836.8</td>\n",
       "      <td>326.6</td>\n",
       "      <td>43599.7</td>\n",
       "      <td>37550.8</td>\n",
       "      <td>17903.4</td>\n",
       "      <td>42</td>\n",
       "      <td>0</td>\n",
       "      <td>7</td>\n",
       "      <td>4</td>\n",
       "    </tr>\n",
       "  </tbody>\n",
       "</table>\n",
       "</div>"
      ],
      "text/plain": [
       "    LATITUDE  LONGITUDE      PARCELNO  SALE_PRC  LND_SQFOOT  TOT_LVG_AREA  \\\n",
       "0  25.891031 -80.160561  622280070620  440000.0        9375          1753   \n",
       "1  25.891324 -80.153968  622280100460  349000.0        9375          1715   \n",
       "2  25.891334 -80.153740  622280100470  800000.0        9375          2276   \n",
       "3  25.891765 -80.152657  622280100530  988000.0       12450          2058   \n",
       "4  25.891825 -80.154639  622280100200  755000.0       12800          1684   \n",
       "\n",
       "   SPEC_FEAT_VAL  RAIL_DIST  OCEAN_DIST  WATER_DIST  CNTR_DIST  SUBCNTR_DI  \\\n",
       "0              0     2815.9     12811.4       347.6    42815.3     37742.2   \n",
       "1              0     4359.1     10648.4       337.8    43504.9     37340.5   \n",
       "2          49206     4412.9     10574.1       297.1    43530.4     37328.7   \n",
       "3          10033     4585.0     10156.5         0.0    43797.5     37423.2   \n",
       "4          16681     4063.4     10836.8       326.6    43599.7     37550.8   \n",
       "\n",
       "   HWY_DIST  age  avno60plus  month_sold  structure_quality  \n",
       "0   15954.9   67           0           8                  4  \n",
       "1   18125.0   63           0           9                  4  \n",
       "2   18200.5   61           0           2                  4  \n",
       "3   18514.4   63           0           9                  4  \n",
       "4   17903.4   42           0           7                  4  "
      ]
     },
     "execution_count": 44,
     "metadata": {},
     "output_type": "execute_result"
    }
   ],
   "source": [
    "df = pd.read_csv('E:\\Machine-Learning\\Dataset\\miami-housing.csv')\n",
    "df.head()"
   ]
  },
  {
   "cell_type": "code",
   "execution_count": 45,
   "metadata": {},
   "outputs": [
    {
     "data": {
      "text/plain": [
       "LATITUDE             float64\n",
       "LONGITUDE            float64\n",
       "PARCELNO               int64\n",
       "SALE_PRC             float64\n",
       "LND_SQFOOT             int64\n",
       "TOT_LVG_AREA           int64\n",
       "SPEC_FEAT_VAL          int64\n",
       "RAIL_DIST            float64\n",
       "OCEAN_DIST           float64\n",
       "WATER_DIST           float64\n",
       "CNTR_DIST            float64\n",
       "SUBCNTR_DI           float64\n",
       "HWY_DIST             float64\n",
       "age                    int64\n",
       "avno60plus             int64\n",
       "month_sold             int64\n",
       "structure_quality      int64\n",
       "dtype: object"
      ]
     },
     "execution_count": 45,
     "metadata": {},
     "output_type": "execute_result"
    }
   ],
   "source": [
    "df.dtypes"
   ]
  },
  {
   "cell_type": "code",
   "execution_count": 52,
   "metadata": {},
   "outputs": [
    {
     "name": "stdout",
     "output_type": "stream",
     "text": [
      "<class 'pandas.core.frame.DataFrame'>\n",
      "RangeIndex: 13932 entries, 0 to 13931\n",
      "Data columns (total 17 columns):\n",
      " #   Column             Non-Null Count  Dtype  \n",
      "---  ------             --------------  -----  \n",
      " 0   LATITUDE           13932 non-null  float64\n",
      " 1   LONGITUDE          13932 non-null  float64\n",
      " 2   PARCELNO           13932 non-null  int64  \n",
      " 3   SALE_PRC           13932 non-null  float64\n",
      " 4   LND_SQFOOT         13932 non-null  int64  \n",
      " 5   TOT_LVG_AREA       13932 non-null  int64  \n",
      " 6   SPEC_FEAT_VAL      13932 non-null  int64  \n",
      " 7   RAIL_DIST          13932 non-null  float64\n",
      " 8   OCEAN_DIST         13932 non-null  float64\n",
      " 9   WATER_DIST         13932 non-null  float64\n",
      " 10  CNTR_DIST          13932 non-null  float64\n",
      " 11  SUBCNTR_DI         13932 non-null  float64\n",
      " 12  HWY_DIST           13932 non-null  float64\n",
      " 13  age                13932 non-null  int64  \n",
      " 14  avno60plus         13932 non-null  int64  \n",
      " 15  month_sold         13932 non-null  int64  \n",
      " 16  structure_quality  13932 non-null  int64  \n",
      "dtypes: float64(9), int64(8)\n",
      "memory usage: 1.8 MB\n"
     ]
    }
   ],
   "source": [
    "df.info()"
   ]
  },
  {
   "cell_type": "code",
   "execution_count": 46,
   "metadata": {},
   "outputs": [],
   "source": [
    "X = df[['LND_SQFOOT','age','TOT_LVG_AREA','structure_quality','RAIL_DIST','HWY_DIST','SUBCNTR_DI','CNTR_DIST','WATER_DIST','OCEAN_DIST']]\n",
    "Y = df['SALE_PRC']"
   ]
  },
  {
   "cell_type": "code",
   "execution_count": 47,
   "metadata": {},
   "outputs": [],
   "source": [
    "x_train, x_test, y_train, y_test = train_test_split(X, Y, test_size=0.4, random_state=1)"
   ]
  },
  {
   "cell_type": "code",
   "execution_count": 48,
   "metadata": {},
   "outputs": [
    {
     "data": {
      "text/plain": [
       "((8359, 10), (5573, 10), (8359,), (5573,))"
      ]
     },
     "execution_count": 48,
     "metadata": {},
     "output_type": "execute_result"
    }
   ],
   "source": [
    "x_train.shape, x_test.shape, y_train.shape, y_test.shape"
   ]
  },
  {
   "cell_type": "code",
   "execution_count": 49,
   "metadata": {},
   "outputs": [
    {
     "data": {
      "text/html": [
       "<style>#sk-container-id-6 {color: black;}#sk-container-id-6 pre{padding: 0;}#sk-container-id-6 div.sk-toggleable {background-color: white;}#sk-container-id-6 label.sk-toggleable__label {cursor: pointer;display: block;width: 100%;margin-bottom: 0;padding: 0.3em;box-sizing: border-box;text-align: center;}#sk-container-id-6 label.sk-toggleable__label-arrow:before {content: \"▸\";float: left;margin-right: 0.25em;color: #696969;}#sk-container-id-6 label.sk-toggleable__label-arrow:hover:before {color: black;}#sk-container-id-6 div.sk-estimator:hover label.sk-toggleable__label-arrow:before {color: black;}#sk-container-id-6 div.sk-toggleable__content {max-height: 0;max-width: 0;overflow: hidden;text-align: left;background-color: #f0f8ff;}#sk-container-id-6 div.sk-toggleable__content pre {margin: 0.2em;color: black;border-radius: 0.25em;background-color: #f0f8ff;}#sk-container-id-6 input.sk-toggleable__control:checked~div.sk-toggleable__content {max-height: 200px;max-width: 100%;overflow: auto;}#sk-container-id-6 input.sk-toggleable__control:checked~label.sk-toggleable__label-arrow:before {content: \"▾\";}#sk-container-id-6 div.sk-estimator input.sk-toggleable__control:checked~label.sk-toggleable__label {background-color: #d4ebff;}#sk-container-id-6 div.sk-label input.sk-toggleable__control:checked~label.sk-toggleable__label {background-color: #d4ebff;}#sk-container-id-6 input.sk-hidden--visually {border: 0;clip: rect(1px 1px 1px 1px);clip: rect(1px, 1px, 1px, 1px);height: 1px;margin: -1px;overflow: hidden;padding: 0;position: absolute;width: 1px;}#sk-container-id-6 div.sk-estimator {font-family: monospace;background-color: #f0f8ff;border: 1px dotted black;border-radius: 0.25em;box-sizing: border-box;margin-bottom: 0.5em;}#sk-container-id-6 div.sk-estimator:hover {background-color: #d4ebff;}#sk-container-id-6 div.sk-parallel-item::after {content: \"\";width: 100%;border-bottom: 1px solid gray;flex-grow: 1;}#sk-container-id-6 div.sk-label:hover label.sk-toggleable__label {background-color: #d4ebff;}#sk-container-id-6 div.sk-serial::before {content: \"\";position: absolute;border-left: 1px solid gray;box-sizing: border-box;top: 0;bottom: 0;left: 50%;z-index: 0;}#sk-container-id-6 div.sk-serial {display: flex;flex-direction: column;align-items: center;background-color: white;padding-right: 0.2em;padding-left: 0.2em;position: relative;}#sk-container-id-6 div.sk-item {position: relative;z-index: 1;}#sk-container-id-6 div.sk-parallel {display: flex;align-items: stretch;justify-content: center;background-color: white;position: relative;}#sk-container-id-6 div.sk-item::before, #sk-container-id-6 div.sk-parallel-item::before {content: \"\";position: absolute;border-left: 1px solid gray;box-sizing: border-box;top: 0;bottom: 0;left: 50%;z-index: -1;}#sk-container-id-6 div.sk-parallel-item {display: flex;flex-direction: column;z-index: 1;position: relative;background-color: white;}#sk-container-id-6 div.sk-parallel-item:first-child::after {align-self: flex-end;width: 50%;}#sk-container-id-6 div.sk-parallel-item:last-child::after {align-self: flex-start;width: 50%;}#sk-container-id-6 div.sk-parallel-item:only-child::after {width: 0;}#sk-container-id-6 div.sk-dashed-wrapped {border: 1px dashed gray;margin: 0 0.4em 0.5em 0.4em;box-sizing: border-box;padding-bottom: 0.4em;background-color: white;}#sk-container-id-6 div.sk-label label {font-family: monospace;font-weight: bold;display: inline-block;line-height: 1.2em;}#sk-container-id-6 div.sk-label-container {text-align: center;}#sk-container-id-6 div.sk-container {/* jupyter's `normalize.less` sets `[hidden] { display: none; }` but bootstrap.min.css set `[hidden] { display: none !important; }` so we also need the `!important` here to be able to override the default hidden behavior on the sphinx rendered scikit-learn.org. See: https://github.com/scikit-learn/scikit-learn/issues/21755 */display: inline-block !important;position: relative;}#sk-container-id-6 div.sk-text-repr-fallback {display: none;}</style><div id=\"sk-container-id-6\" class=\"sk-top-container\"><div class=\"sk-text-repr-fallback\"><pre>LinearRegression()</pre><b>In a Jupyter environment, please rerun this cell to show the HTML representation or trust the notebook. <br />On GitHub, the HTML representation is unable to render, please try loading this page with nbviewer.org.</b></div><div class=\"sk-container\" hidden><div class=\"sk-item\"><div class=\"sk-estimator sk-toggleable\"><input class=\"sk-toggleable__control sk-hidden--visually\" id=\"sk-estimator-id-6\" type=\"checkbox\" checked><label for=\"sk-estimator-id-6\" class=\"sk-toggleable__label sk-toggleable__label-arrow\">LinearRegression</label><div class=\"sk-toggleable__content\"><pre>LinearRegression()</pre></div></div></div></div></div>"
      ],
      "text/plain": [
       "LinearRegression()"
      ]
     },
     "execution_count": 49,
     "metadata": {},
     "output_type": "execute_result"
    }
   ],
   "source": [
    "model = LinearRegression()\n",
    "\n",
    "model.fit(x_train, y_train)"
   ]
  },
  {
   "cell_type": "code",
   "execution_count": 50,
   "metadata": {},
   "outputs": [],
   "source": [
    "y_pred = model.predict(x_test)"
   ]
  },
  {
   "cell_type": "code",
   "execution_count": 51,
   "metadata": {},
   "outputs": [
    {
     "name": "stdout",
     "output_type": "stream",
     "text": [
      "R-squared value is 0.6804905219359761\n"
     ]
    }
   ],
   "source": [
    "from sklearn.metrics import r2_score\n",
    "r2 = r2_score(y_test,y_pred)\n",
    "\n",
    "print(f\"R-squared value is {r2}\")"
   ]
  }
 ],
 "metadata": {
  "kernelspec": {
   "display_name": "ML_CLub",
   "language": "python",
   "name": "python3"
  },
  "language_info": {
   "codemirror_mode": {
    "name": "ipython",
    "version": 3
   },
   "file_extension": ".py",
   "mimetype": "text/x-python",
   "name": "python",
   "nbconvert_exporter": "python",
   "pygments_lexer": "ipython3",
   "version": "3.10.12"
  },
  "orig_nbformat": 4
 },
 "nbformat": 4,
 "nbformat_minor": 2
}
