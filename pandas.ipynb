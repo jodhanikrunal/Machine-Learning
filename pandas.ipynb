{
 "cells": [
  {
   "cell_type": "code",
   "execution_count": 5,
   "metadata": {},
   "outputs": [],
   "source": [
    "import numpy as np\n",
    "import pandas as pd"
   ]
  },
  {
   "cell_type": "code",
   "execution_count": null,
   "metadata": {},
   "outputs": [],
   "source": []
  },
  {
   "cell_type": "code",
   "execution_count": 6,
   "metadata": {},
   "outputs": [
    {
     "name": "stdout",
     "output_type": "stream",
     "text": [
      "0     1.00\n",
      "1     2.00\n",
      "2     5.00\n",
      "3    89.00\n",
      "4     0.25\n",
      "dtype: float64\n"
     ]
    }
   ],
   "source": [
    "data = pd.Series([1,2,5,89,0.25])\n",
    "print(data)"
   ]
  },
  {
   "cell_type": "code",
   "execution_count": 7,
   "metadata": {},
   "outputs": [
    {
     "name": "stdout",
     "output_type": "stream",
     "text": [
      "a    0.25\n",
      "b    0.50\n",
      "c    0.75\n",
      "d    1.00\n",
      "dtype: float64\n"
     ]
    }
   ],
   "source": [
    "data = pd.Series([0.25,0.5,0.75,1.0], index=['a','b','c','d'])\n",
    "print(data)"
   ]
  },
  {
   "cell_type": "code",
   "execution_count": 8,
   "metadata": {},
   "outputs": [
    {
     "name": "stdout",
     "output_type": "stream",
     "text": [
      "2    0.25\n",
      "5    0.50\n",
      "3    0.75\n",
      "7    1.00\n",
      "dtype: float64\n"
     ]
    }
   ],
   "source": [
    "data = pd.Series([0.25,0.5,0.75,1.0], index=[2,5,3,7])\n",
    "print(data)"
   ]
  },
  {
   "cell_type": "code",
   "execution_count": 10,
   "metadata": {},
   "outputs": [
    {
     "name": "stdout",
     "output_type": "stream",
     "text": [
      "2    5\n",
      "5    5\n",
      "3    5\n",
      "7    5\n",
      "dtype: int64\n"
     ]
    }
   ],
   "source": [
    "data = pd.Series(5, index=[2,5,3,7])\n",
    "print(data)"
   ]
  },
  {
   "cell_type": "code",
   "execution_count": 11,
   "metadata": {},
   "outputs": [
    {
     "name": "stdout",
     "output_type": "stream",
     "text": [
      "2    a\n",
      "5    b\n",
      "7    c\n",
      "dtype: object\n"
     ]
    }
   ],
   "source": [
    "data = pd.Series({2:'a',5:'b',7:'c'})\n",
    "print(data)"
   ]
  },
  {
   "cell_type": "code",
   "execution_count": 24,
   "metadata": {},
   "outputs": [
    {
     "name": "stdout",
     "output_type": "stream",
     "text": [
      "2    a\n",
      "5    b\n",
      "7    c\n",
      "dtype: object\n"
     ]
    }
   ],
   "source": [
    "data = pd.Series({2:'a',5:'b',7:'c'})\n",
    "print(data)"
   ]
  },
  {
   "cell_type": "code",
   "execution_count": 18,
   "metadata": {},
   "outputs": [
    {
     "name": "stdout",
     "output_type": "stream",
     "text": [
      "Junagadh     5\n",
      "Rajkot       8\n",
      "Surat       12\n",
      "Jamnagar    15\n",
      "Baroda       2\n",
      "dtype: int64\n"
     ]
    }
   ],
   "source": [
    "population_dict = {'Junagadh':5,'Rajkot':8,'Surat':12,'Jamnagar':15,'Baroda':2}\n",
    "\n",
    "population = pd.Series(population_dict)\n",
    "\n",
    "print(population)"
   ]
  },
  {
   "cell_type": "code",
   "execution_count": 25,
   "metadata": {},
   "outputs": [
    {
     "name": "stdout",
     "output_type": "stream",
     "text": [
      "Index([2, 5, 7], dtype='int64')\n"
     ]
    }
   ],
   "source": [
    "print(data.keys())"
   ]
  },
  {
   "cell_type": "code",
   "execution_count": 26,
   "metadata": {},
   "outputs": [
    {
     "name": "stdout",
     "output_type": "stream",
     "text": [
      "[(2, 'a'), (5, 'b'), (7, 'c')]\n"
     ]
    }
   ],
   "source": [
    "l = list(data.items())\n",
    "print(l)"
   ]
  },
  {
   "cell_type": "code",
   "execution_count": 27,
   "metadata": {},
   "outputs": [
    {
     "name": "stdout",
     "output_type": "stream",
     "text": [
      "['a' 'b' 'c']\n"
     ]
    }
   ],
   "source": [
    "print(data.values)"
   ]
  },
  {
   "cell_type": "code",
   "execution_count": 36,
   "metadata": {},
   "outputs": [
    {
     "name": "stdout",
     "output_type": "stream",
     "text": [
      "a    0.25\n",
      "b    0.50\n",
      "c    0.00\n",
      "d    1.00\n",
      "dtype: float64\n",
      "a     0.25\n",
      "b     0.50\n",
      "c    23.00\n",
      "d     1.00\n",
      "dtype: float64\n",
      "a     0.25\n",
      "b     0.50\n",
      "c    23.00\n",
      "d     1.00\n",
      "e    45.00\n",
      "dtype: float64\n"
     ]
    }
   ],
   "source": [
    "data1 = pd.Series([0.25,0.5,0.0,1.0] , index=['a','b','c','d'])\n",
    "\n",
    "print(data1)\n",
    "\n",
    "data1['c'] = 23\n",
    "\n",
    "print(data1)\n",
    "\n",
    "data1['e'] = 45\n",
    "\n",
    "print(data1)"
   ]
  },
  {
   "cell_type": "code",
   "execution_count": 39,
   "metadata": {},
   "outputs": [
    {
     "name": "stdout",
     "output_type": "stream",
     "text": [
      "a     0.25\n",
      "b     0.50\n",
      "c    23.00\n",
      "dtype: float64\n",
      "a     0.25\n",
      "e    45.00\n",
      "dtype: float64\n",
      "b     0.5\n",
      "c    23.0\n",
      "dtype: float64\n"
     ]
    }
   ],
   "source": [
    "print(data1['a':'c'])\n",
    "\n",
    "print(data1[['a','e']])\n",
    "\n",
    "print(data1[1:3])"
   ]
  },
  {
   "cell_type": "code",
   "execution_count": 43,
   "metadata": {},
   "outputs": [
    {
     "name": "stdout",
     "output_type": "stream",
     "text": [
      "b    0.5\n",
      "dtype: float64\n"
     ]
    }
   ],
   "source": [
    "print(data1[(data1 > 0.3) & (data1 < 0.8)])"
   ]
  },
  {
   "cell_type": "code",
   "execution_count": 47,
   "metadata": {},
   "outputs": [
    {
     "name": "stdout",
     "output_type": "stream",
     "text": [
      "data\n",
      "1     a\n",
      "30    b\n",
      "50    c\n",
      "7     d\n",
      "dtype: object\n",
      "data with loc 1 to 50\n",
      "1     a\n",
      "30    b\n",
      "50    c\n",
      "dtype: object\n",
      "data with iloc 1 to 50\n",
      "30    b\n",
      "50    c\n",
      "dtype: object\n"
     ]
    }
   ],
   "source": [
    "data = pd.Series(['a','b','c','d'] , index=[1,30,50,7])\n",
    "\n",
    "print(\"data\")\n",
    "print(data)\n",
    "\n",
    "print(\"data with loc 1 to 50\")\n",
    "print(data.loc[1:50])\n",
    "\n",
    "print(\"data with iloc 1 to 50\")\n",
    "print(data.iloc[1:50])"
   ]
  },
  {
   "cell_type": "code",
   "execution_count": 49,
   "metadata": {},
   "outputs": [
    {
     "name": "stdout",
     "output_type": "stream",
     "text": [
      "     a   b\n",
      "0  100  22\n",
      "1  350  49\n"
     ]
    }
   ],
   "source": [
    "# Data frame in pandas\n",
    "\n",
    "d = pd.DataFrame([{'a':100 , 'b':22} , {'a':350 , 'b':49}])\n",
    "\n",
    "print(d)"
   ]
  },
  {
   "cell_type": "code",
   "execution_count": 50,
   "metadata": {},
   "outputs": [
    {
     "name": "stdout",
     "output_type": "stream",
     "text": [
      "       a    b     c\n",
      "0  100.0   22   NaN\n",
      "1    NaN  350  49.0\n"
     ]
    }
   ],
   "source": [
    "d = pd.DataFrame([{'a':100 , 'b':22} , {'b':350 , 'c':49}])\n",
    "\n",
    "print(d)"
   ]
  },
  {
   "cell_type": "code",
   "execution_count": 54,
   "metadata": {},
   "outputs": [
    {
     "name": "stdout",
     "output_type": "stream",
     "text": [
      "[{'a': 0, 'b': 0}, {'a': 1, 'b': 2}, {'a': 2, 'b': 4}]\n",
      "   a  b\n",
      "0  0  0\n",
      "1  1  2\n",
      "2  2  4\n",
      "Index(['a', 'b'], dtype='object')\n"
     ]
    }
   ],
   "source": [
    "data = [{'a':i , 'b':2*i} for i in range(3)]\n",
    "\n",
    "print(data)\n",
    "\n",
    "d = pd.DataFrame(data)\n",
    "print(d)\n",
    "\n",
    "print(d.keys())"
   ]
  },
  {
   "cell_type": "code",
   "execution_count": 66,
   "metadata": {},
   "outputs": [
    {
     "name": "stdout",
     "output_type": "stream",
     "text": [
      "Junagadh     5\n",
      "Rajkot       8\n",
      "Surat       12\n",
      "Jamnagar    15\n",
      "Baroda       2\n",
      "dtype: int64\n",
      "{'Junagadh': 5, 'Rajkot': 8, 'Surat': 12, 'Jamnagar': 15, 'Baroda': 2}\n",
      "          area\n",
      "Baroda      12\n",
      "Jamnagar   115\n",
      "Junagadh    15\n",
      "Rajkot      18\n",
      "Surat      112\n",
      "Junagadh     15\n",
      "Rajkot       18\n",
      "Surat       112\n",
      "Jamnagar    115\n",
      "Baroda       12\n",
      "dtype: int64\n",
      "{'Junagadh': 15, 'Rajkot': 18, 'Surat': 112, 'Jamnagar': 115, 'Baroda': 12}\n",
      "          area  population\n",
      "Junagadh    15           5\n",
      "Rajkot      18           8\n",
      "Surat      112          12\n",
      "Jamnagar   115          15\n",
      "Baroda      12           2\n"
     ]
    }
   ],
   "source": [
    "population_dict = {'Junagadh':5,'Rajkot':8,'Surat':12,'Jamnagar':15,'Baroda':2}\n",
    "\n",
    "population = pd.Series(population_dict)\n",
    "\n",
    "print(population)\n",
    "\n",
    "print(population_dict)\n",
    "\n",
    "s = pd.DataFrame({'area' : area_dict})\n",
    "\n",
    "print(s)\n",
    "\n",
    "area_dict = {'Junagadh':15,'Rajkot':18,'Surat':112,'Jamnagar':115,'Baroda':12}\n",
    "\n",
    "area = pd.Series(area_dict)\n",
    "\n",
    "print(area)\n",
    "\n",
    "print(area_dict)\n",
    "\n",
    "state = pd.DataFrame({'area' : area_dict , 'population' : population_dict})\n",
    "\n",
    "print(state)"
   ]
  },
  {
   "cell_type": "code",
   "execution_count": 77,
   "metadata": {},
   "outputs": [
    {
     "name": "stdout",
     "output_type": "stream",
     "text": [
      "[[15  5]]\n"
     ]
    }
   ],
   "source": [
    "print(state.values[:1])"
   ]
  },
  {
   "cell_type": "code",
   "execution_count": 80,
   "metadata": {},
   "outputs": [
    {
     "name": "stdout",
     "output_type": "stream",
     "text": [
      "          area  population   density\n",
      "Junagadh    15           5  3.000000\n",
      "Rajkot      18           8  2.250000\n",
      "Surat      112          12  9.333333\n",
      "Jamnagar   115          15  7.666667\n",
      "Baroda      12           2  6.000000\n"
     ]
    }
   ],
   "source": [
    "state['density'] = state['area']/state['population']\n",
    "\n",
    "print(state)"
   ]
  },
  {
   "cell_type": "code",
   "execution_count": 81,
   "metadata": {},
   "outputs": [
    {
     "name": "stdout",
     "output_type": "stream",
     "text": [
      "          area  population\n",
      "Junagadh    15           5\n",
      "Rajkot      18           8\n",
      "Surat      112          12\n"
     ]
    }
   ],
   "source": [
    "pivot = state.iloc[:3,:2]\n",
    "\n",
    "print(pivot)"
   ]
  },
  {
   "cell_type": "code",
   "execution_count": null,
   "metadata": {},
   "outputs": [],
   "source": []
  }
 ],
 "metadata": {
  "kernelspec": {
   "display_name": "Python 3",
   "language": "python",
   "name": "python3"
  },
  "language_info": {
   "codemirror_mode": {
    "name": "ipython",
    "version": 3
   },
   "file_extension": ".py",
   "mimetype": "text/x-python",
   "name": "python",
   "nbconvert_exporter": "python",
   "pygments_lexer": "ipython3",
   "version": "3.10.11"
  },
  "orig_nbformat": 4
 },
 "nbformat": 4,
 "nbformat_minor": 2
}
