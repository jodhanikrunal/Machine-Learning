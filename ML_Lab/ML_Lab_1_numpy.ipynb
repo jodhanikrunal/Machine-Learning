{
 "cells": [
  {
   "cell_type": "code",
   "execution_count": 2,
   "metadata": {},
   "outputs": [],
   "source": [
    "import numpy as np"
   ]
  },
  {
   "cell_type": "code",
   "execution_count": 3,
   "metadata": {},
   "outputs": [
    {
     "name": "stdout",
     "output_type": "stream",
     "text": [
      "[[1 2 3]\n",
      " [4 5 6]]\n"
     ]
    }
   ],
   "source": [
    "# create an array using numpy arrays\n",
    "\n",
    "a = np.array([[1,2,3],[4,5,6]])\n",
    "\n",
    "print(a)"
   ]
  },
  {
   "cell_type": "code",
   "execution_count": 4,
   "metadata": {},
   "outputs": [
    {
     "name": "stdout",
     "output_type": "stream",
     "text": [
      "[0 1 2 3 4 5 6 7 8 9]\n",
      "[0 2 4 6 8]\n"
     ]
    }
   ],
   "source": [
    "# arange function is use for print number form a to b and skip c at same interval\n",
    "# function call => numpy.arange(from,to,step)\n",
    "\n",
    "print(np.arange(0,10))\n",
    "\n",
    "print(np.arange(0,10,2))"
   ]
  },
  {
   "cell_type": "code",
   "execution_count": 5,
   "metadata": {},
   "outputs": [
    {
     "name": "stdout",
     "output_type": "stream",
     "text": [
      "[ 0.          3.33333333  6.66666667 10.        ]\n"
     ]
    }
   ],
   "source": [
    "# linespace is used to create an evenly spaced sequence in a specified interval.\n",
    "# there are 3 arguments in function call from to and total space in array\n",
    "\n",
    "a = np.linspace(0,10,4)\n",
    "\n",
    "print(a)"
   ]
  },
  {
   "cell_type": "code",
   "execution_count": 6,
   "metadata": {},
   "outputs": [
    {
     "name": "stdout",
     "output_type": "stream",
     "text": [
      "[[0. 0. 0.]\n",
      " [0. 0. 0.]\n",
      " [0. 0. 0.]\n",
      " [0. 0. 0.]\n",
      " [0. 0. 0.]]\n",
      "[1. 1. 1.]\n"
     ]
    }
   ],
   "source": [
    "# np.zeroes give matrinx or array given size in argumrtn\n",
    "# np.ones is also works like np.zeroes\n",
    "\n",
    "x = np.zeros((5,3))\n",
    "\n",
    "print(x)\n",
    "\n",
    "y= np.ones(3)\n",
    "\n",
    "print(y)"
   ]
  },
  {
   "cell_type": "code",
   "execution_count": 8,
   "metadata": {},
   "outputs": [
    {
     "name": "stdout",
     "output_type": "stream",
     "text": [
      "[[1. 0. 0. 0.]\n",
      " [0. 1. 0. 0.]\n",
      " [0. 0. 1. 0.]\n",
      " [0. 0. 0. 1.]]\n"
     ]
    }
   ],
   "source": [
    "# np.eye crete an identity matrix of size given in function argumetn\n",
    "\n",
    "a = np.eye(4)\n",
    "\n",
    "print(a)"
   ]
  },
  {
   "cell_type": "code",
   "execution_count": 10,
   "metadata": {},
   "outputs": [
    {
     "name": "stdout",
     "output_type": "stream",
     "text": [
      "[[0.69421482 0.44589647 0.90610819 0.91232768]\n",
      " [0.93854372 0.8518594  0.32378438 0.41146979]\n",
      " [0.49060504 0.68642186 0.52922128 0.33531124]]\n",
      "[-1.08447275 -0.47764875 -0.16328785 -0.40188614]\n"
     ]
    },
    {
     "data": {
      "text/plain": [
       "array([12,  4, 16])"
      ]
     },
     "execution_count": 10,
     "metadata": {},
     "output_type": "execute_result"
    }
   ],
   "source": [
    "# Create an array of the given shape and populate it with random samples from a uniform distribution over 0 to 1\n",
    "\n",
    "z = np.random.rand(3,4)\n",
    "\n",
    "print(z)\n",
    "\n",
    "# Return a sample (or samples) from the \"standard normal\" distribution. Unlike rand which is uniform\n",
    "\n",
    "x = np.random.randn(4)\n",
    "\n",
    "print(x)\n",
    "\n",
    "# return n random integers from low to high given in argument if not given n in argument then return only one random integer\n",
    "\n",
    "\n",
    "np.random.randint(2,20,3)"
   ]
  },
  {
   "cell_type": "code",
   "execution_count": 13,
   "metadata": {},
   "outputs": [
    {
     "name": "stdout",
     "output_type": "stream",
     "text": [
      "before reshape ...\n",
      "(2, 3)\n",
      "[[1 2 3]\n",
      " [4 5 6]]\n",
      "\n",
      "after reshape ...\n",
      "(3, 2)\n",
      "[[1 2]\n",
      " [3 4]\n",
      " [5 6]]\n"
     ]
    }
   ],
   "source": [
    "# Returns an array containing the same data with a new shape.\n",
    "\n",
    "a = np.array([[1, 2, 3], [4, 5,6]])\n",
    "\n",
    "print('before reshape ...')\n",
    "print(a.shape)\n",
    "print(a)\n",
    "\n",
    "\n",
    "print('\\nafter reshape ...')\n",
    "a = a.reshape((3,2))\n",
    "print(a.shape)\n",
    "print(a)"
   ]
  },
  {
   "cell_type": "code",
   "execution_count": 14,
   "metadata": {},
   "outputs": [
    {
     "name": "stdout",
     "output_type": "stream",
     "text": [
      "6\n",
      "1\n",
      "5\n",
      "0\n",
      "int32\n"
     ]
    }
   ],
   "source": [
    "print(a.max()) #return max value of array a\n",
    "\n",
    "print(a.min()) #return min value of array a\n",
    "\n",
    "print(a.argmax()) #return max value element's index of array a\n",
    "\n",
    "print(a.argmin()) #return min element's index of array a\n",
    "\n",
    "print(a.dtype) #dtype return data type of the object of an array"
   ]
  },
  {
   "cell_type": "code",
   "execution_count": 15,
   "metadata": {},
   "outputs": [
    {
     "name": "stdout",
     "output_type": "stream",
     "text": [
      "[ 0  1  2  3  4  5  6  7  8  9 10]\n",
      "[1 2 3 4]\n",
      "[ 0 50 50 50 50  5  6  7  8  9 10]\n"
     ]
    }
   ],
   "source": [
    "ar = np.arange(0,11)\n",
    "\n",
    "print(ar)\n",
    "\n",
    "x = ar[1:5]\n",
    "\n",
    "print(x)\n",
    "\n",
    "# Numpy arrays differ from a normal Python list because of their ability to broadcast\n",
    "\n",
    "ar[1:5] = 50\n",
    "\n",
    "print(ar)"
   ]
  },
  {
   "cell_type": "code",
   "execution_count": 22,
   "metadata": {},
   "outputs": [
    {
     "name": "stdout",
     "output_type": "stream",
     "text": [
      "[[1 2 3]\n",
      " [4 5 6]\n",
      " [7 8 9]]\n",
      "[4 5 6]\n",
      "6\n",
      "6\n"
     ]
    }
   ],
   "source": [
    "# Indexing in 2D arrays\n",
    "\n",
    "array_2d = np.array([[1,2,3],[4,5,6],[7,8,9]])\n",
    "\n",
    "print(array_2d)\n",
    "\n",
    "# indexing or print whole row\n",
    "\n",
    "print(array_2d[1])\n",
    "\n",
    "# get particullar elements\n",
    "\n",
    "print(array_2d[1][2])\n",
    "\n",
    "# another method\n",
    "print(array_2d[1 , 2])\n"
   ]
  },
  {
   "cell_type": "code",
   "execution_count": 23,
   "metadata": {},
   "outputs": [
    {
     "name": "stdout",
     "output_type": "stream",
     "text": [
      "[[2 3]\n",
      " [5 6]]\n",
      "[7 8 9]\n"
     ]
    }
   ],
   "source": [
    "# 2D array slicing\n",
    "\n",
    "#Shape (2,2) from top right corner\n",
    "\n",
    "print(array_2d[:2,1:])\n",
    "\n",
    "# another way to print whole row\n",
    "\n",
    "print(array_2d[2,:])"
   ]
  },
  {
   "cell_type": "code",
   "execution_count": 31,
   "metadata": {},
   "outputs": [
    {
     "name": "stdout",
     "output_type": "stream",
     "text": [
      "[[0. 0. 0. 0. 0. 0. 0. 0. 0.]\n",
      " [0. 0. 0. 0. 0. 0. 0. 0. 0.]\n",
      " [0. 0. 0. 0. 0. 0. 0. 0. 0.]\n",
      " [0. 0. 0. 0. 0. 0. 0. 0. 0.]\n",
      " [0. 0. 0. 0. 0. 0. 0. 0. 0.]\n",
      " [0. 0. 0. 0. 0. 0. 0. 0. 0.]\n",
      " [0. 0. 0. 0. 0. 0. 0. 0. 0.]\n",
      " [0. 0. 0. 0. 0. 0. 0. 0. 0.]\n",
      " [0. 0. 0. 0. 0. 0. 0. 0. 0.]\n",
      " [0. 0. 0. 0. 0. 0. 0. 0. 0.]]\n",
      "10\n",
      "9\n"
     ]
    }
   ],
   "source": [
    "# create one new 2d array of size 10x10\n",
    "\n",
    "arr2d = np.zeros((10,9))\n",
    "\n",
    "print(arr2d)\n",
    "\n",
    "# find row length of array\n",
    "\n",
    "arr_row = arr2d.shape[0]\n",
    "\n",
    "print(arr_row)\n",
    "\n",
    "# find column length  of array\n",
    "\n",
    "arr_column = arr2d.shape[1]\n",
    "\n",
    "print(arr_column)"
   ]
  },
  {
   "cell_type": "code",
   "execution_count": 37,
   "metadata": {},
   "outputs": [
    {
     "name": "stdout",
     "output_type": "stream",
     "text": [
      "[[0. 0. 0. 0. 0. 0. 0. 0. 0.]\n",
      " [1. 1. 1. 1. 1. 1. 1. 1. 1.]\n",
      " [2. 2. 2. 2. 2. 2. 2. 2. 2.]\n",
      " [3. 3. 3. 3. 3. 3. 3. 3. 3.]\n",
      " [4. 4. 4. 4. 4. 4. 4. 4. 4.]\n",
      " [5. 5. 5. 5. 5. 5. 5. 5. 5.]\n",
      " [6. 6. 6. 6. 6. 6. 6. 6. 6.]\n",
      " [7. 7. 7. 7. 7. 7. 7. 7. 7.]\n",
      " [8. 8. 8. 8. 8. 8. 8. 8. 8.]\n",
      " [9. 9. 9. 9. 9. 9. 9. 9. 9.]]\n",
      "\n",
      " [[2. 2. 2. 2. 2. 2. 2. 2. 2.]\n",
      " [4. 4. 4. 4. 4. 4. 4. 4. 4.]\n",
      " [6. 6. 6. 6. 6. 6. 6. 6. 6.]\n",
      " [8. 8. 8. 8. 8. 8. 8. 8. 8.]]\n"
     ]
    }
   ],
   "source": [
    "for i in range(arr_row) :\n",
    "    arr2d[i] = i\n",
    "\n",
    "print(arr2d)\n",
    "\n",
    "# print only mentioned row\n",
    "\n",
    "print(\"\\n\" , arr2d[[2,4,6,8]])"
   ]
  },
  {
   "cell_type": "code",
   "execution_count": 44,
   "metadata": {},
   "outputs": [
    {
     "name": "stdout",
     "output_type": "stream",
     "text": [
      "[ 0  1  2  3  4  5  6  7  8  9 10]\n",
      "[False False False False False False  True  True  True  True  True]\n",
      "[ 5  6  7  8  9 10]\n",
      "[ 3  4  5  6  7  8  9 10]\n"
     ]
    }
   ],
   "source": [
    "# selection\n",
    "\n",
    "arr = np.arange(0,11)\n",
    "\n",
    "print(arr)\n",
    "\n",
    "# print boolean value array as per the operation\n",
    "\n",
    "print(arr>5)\n",
    "\n",
    "# now from boolean value print the array which value is true\n",
    "\n",
    "bool_array = arr>4\n",
    "\n",
    "print(arr[bool_array])\n",
    "\n",
    "x=2\n",
    "\n",
    "print(arr[arr>x])"
   ]
  },
  {
   "cell_type": "code",
   "execution_count": 55,
   "metadata": {},
   "outputs": [
    {
     "name": "stdout",
     "output_type": "stream",
     "text": [
      "[20 22 24 26 28 30 32 34 36 38 40]\n",
      "\n",
      "\n",
      "[40 43 46 49 52 55 58 61 64 67 70]\n",
      "\n",
      " [  0  -1  -2  -3  -4  -5  -6  -7  -8  -9 -10]\n",
      "\n",
      "\n",
      "[-20 -22 -24 -26 -28 -30 -32 -34 -36 -38 -40]\n",
      "[   0  -21  -44  -69  -96 -125 -156 -189 -224 -261 -300]\n",
      "\n",
      " [   0  -21  -44  -69  -96 -125 -156 -189 -224 -261 -300]\n",
      "[21.         11.          7.66666667  6.          5.          4.33333333\n",
      "  3.85714286  3.5         3.22222222  3.        ]\n",
      "\n",
      " [21.         11.          7.66666667  6.          5.          4.33333333\n",
      "  3.85714286  3.5         3.22222222  3.        ]\n"
     ]
    }
   ],
   "source": [
    "# numpy arethmentic operations\n",
    "\n",
    "# addition\n",
    "arr1 = np.arange(20,31)\n",
    "arr = arr + arr1\n",
    "\n",
    "print(arr)\n",
    "\n",
    "print(\"\\n\")\n",
    "print(np.add(arr, arr1))\n",
    "\n",
    "# subtraction\n",
    "\n",
    "arr = arr1 - arr\n",
    "\n",
    "print(\"\\n\",arr)\n",
    "\n",
    "print(\"\\n\")\n",
    "print(np.subtract(arr, arr1))\n",
    "\n",
    "# multiplication\n",
    "\n",
    "print(arr*arr1)\n",
    "\n",
    "print(\"\\n\",np.multiply(arr, arr1))\n",
    "\n",
    "# division\n",
    "\n",
    "arr1 = np.arange(21,31)\n",
    "arr = np.arange(1,11)\n",
    "\n",
    "print(arr1 / arr)\n",
    "\n",
    "print(\"\\n\",np.divide(arr1, arr))\n",
    "\n"
   ]
  },
  {
   "cell_type": "code",
   "execution_count": 9,
   "metadata": {},
   "outputs": [
    {
     "data": {
      "text/plain": [
       "array([[1, 2, 3],\n",
       "       [4, 5, 6]])"
      ]
     },
     "execution_count": 9,
     "metadata": {},
     "output_type": "execute_result"
    }
   ],
   "source": [
    "n1 = np.array([1,2,3])\n",
    "n2 = np.array([4,5,6])\n",
    "\n",
    "# vstack done vertical stacking\n",
    "\n",
    "np.vstack((n1,n2))\n",
    "\n",
    "# hctack done horizontal stacking\n",
    "\n",
    "np.hstack((n1,n2))\n",
    "\n",
    "# column stack\n",
    "\n",
    "np.column_stack((n1,n2))\n",
    "\n",
    "# row stack is similar like verical stacking\n",
    "\n",
    "np.row_stack((n1,n2))"
   ]
  },
  {
   "cell_type": "code",
   "execution_count": 11,
   "metadata": {},
   "outputs": [
    {
     "data": {
      "text/plain": [
       "array([1, 2, 3, 4])"
      ]
     },
     "execution_count": 11,
     "metadata": {},
     "output_type": "execute_result"
    }
   ],
   "source": [
    "n1 = np.array([1, 2, 3, 4, 5, 6])\n",
    "n2 = np.array([5, 6, 7, 8])\n",
    "\n",
    "# intersect1d find common element in both array\n",
    "\n",
    "np.intersect1d(n1, n2)\n",
    "\n",
    "# setdiff1d find unique elements in first array from second array\n",
    "\n",
    "np.setdiff1d(n1, n2)"
   ]
  },
  {
   "cell_type": "code",
   "execution_count": 20,
   "metadata": {},
   "outputs": [
    {
     "name": "stdout",
     "output_type": "stream",
     "text": [
      "16.75\n",
      "11.5\n",
      "13.663363421939708\n"
     ]
    }
   ],
   "source": [
    "arr = np.array([1,5,8,10,25,13,45,27])\n",
    "\n",
    "# to find mean of given array elements\n",
    "\n",
    "print(np.mean(arr))\n",
    "\n",
    "# to find meadian of given array elements\n",
    "\n",
    "print(np.median(arr))\n",
    "\n",
    "# find standard deviation of given array elements\n",
    "\n",
    "print(np.std(arr))"
   ]
  },
  {
   "cell_type": "code",
   "execution_count": 23,
   "metadata": {},
   "outputs": [
    {
     "data": {
      "text/plain": [
       "array([[ 30,  24,  18],\n",
       "       [ 84,  69,  54],\n",
       "       [138, 114,  90]])"
      ]
     },
     "execution_count": 23,
     "metadata": {},
     "output_type": "execute_result"
    }
   ],
   "source": [
    "# matrix multiplication\n",
    "\n",
    "n1 = np.array([[1,2,3],[4,5,6],[7,8,9]])\n",
    "\n",
    "n2 = np.array([[9,8,7],[6,5,4],[3,2,1]])\n",
    "\n",
    "n1.dot(n2)"
   ]
  },
  {
   "cell_type": "code",
   "execution_count": 27,
   "metadata": {},
   "outputs": [
    {
     "data": {
      "text/plain": [
       "array([[ 1,  2,  3,  4,  5],\n",
       "       [ 6,  7,  8,  9, 10]])"
      ]
     },
     "execution_count": 27,
     "metadata": {},
     "output_type": "execute_result"
    }
   ],
   "source": [
    "# NumoPy Save and load\n",
    "\n",
    "n1 = np.array([[1, 2, 3, 4, 5],[6, 7, 8, 9, 10]])\n",
    "\n",
    "np.save('numpy_array',n1)\n",
    "\n",
    "n2 = np.load('numpy_array.npy')\n",
    "\n",
    "n2\n"
   ]
  },
  {
   "cell_type": "code",
   "execution_count": null,
   "metadata": {},
   "outputs": [],
   "source": []
  }
 ],
 "metadata": {
  "kernelspec": {
   "display_name": "Python 3",
   "language": "python",
   "name": "python3"
  },
  "language_info": {
   "codemirror_mode": {
    "name": "ipython",
    "version": 3
   },
   "file_extension": ".py",
   "mimetype": "text/x-python",
   "name": "python",
   "nbconvert_exporter": "python",
   "pygments_lexer": "ipython3",
   "version": "3.10.11"
  },
  "orig_nbformat": 4
 },
 "nbformat": 4,
 "nbformat_minor": 2
}
