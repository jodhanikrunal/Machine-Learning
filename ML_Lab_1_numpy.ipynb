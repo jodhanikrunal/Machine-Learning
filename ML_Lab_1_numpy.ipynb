{
 "cells": [
  {
   "cell_type": "code",
   "execution_count": 3,
   "metadata": {},
   "outputs": [],
   "source": [
    "import numpy as np"
   ]
  },
  {
   "cell_type": "code",
   "execution_count": 4,
   "metadata": {},
   "outputs": [
    {
     "name": "stdout",
     "output_type": "stream",
     "text": [
      "[[1 2 3]\n",
      " [4 5 6]]\n"
     ]
    }
   ],
   "source": [
    "# create an array using numpy arrays\n",
    "\n",
    "a = np.array([[1,2,3],[4,5,6]])\n",
    "\n",
    "print(a)"
   ]
  },
  {
   "cell_type": "code",
   "execution_count": 5,
   "metadata": {},
   "outputs": [
    {
     "name": "stdout",
     "output_type": "stream",
     "text": [
      "[0 1 2 3 4 5 6 7 8 9]\n",
      "[0 2 4 6 8]\n"
     ]
    }
   ],
   "source": [
    "# arange function is use for print number form a to b and skip c at same interval\n",
    "# function call => numpy.arange(from,to,step)\n",
    "\n",
    "print(np.arange(0,10))\n",
    "\n",
    "print(np.arange(0,10,2))"
   ]
  },
  {
   "cell_type": "code",
   "execution_count": 6,
   "metadata": {},
   "outputs": [
    {
     "name": "stdout",
     "output_type": "stream",
     "text": [
      "[ 0.          3.33333333  6.66666667 10.        ]\n"
     ]
    }
   ],
   "source": [
    "# linespace is used to create an evenly spaced sequence in a specified interval.\n",
    "# there are 3 arguments in function call from to and total space in array\n",
    "\n",
    "a = np.linspace(0,10,4)\n",
    "\n",
    "print(a)"
   ]
  },
  {
   "cell_type": "code",
   "execution_count": 7,
   "metadata": {},
   "outputs": [
    {
     "name": "stdout",
     "output_type": "stream",
     "text": [
      "[[0. 0. 0.]\n",
      " [0. 0. 0.]\n",
      " [0. 0. 0.]\n",
      " [0. 0. 0.]\n",
      " [0. 0. 0.]]\n",
      "[1. 1. 1.]\n"
     ]
    }
   ],
   "source": [
    "# np.zeroes give matrinx or array given size in argumrtn\n",
    "# np.ones is also works like np.zeroes\n",
    "\n",
    "x = np.zeros((5,3))\n",
    "\n",
    "print(x)\n",
    "\n",
    "y= np.ones(3)\n",
    "\n",
    "print(y)"
   ]
  },
  {
   "cell_type": "code",
   "execution_count": 8,
   "metadata": {},
   "outputs": [
    {
     "name": "stdout",
     "output_type": "stream",
     "text": [
      "[[1. 0. 0. 0.]\n",
      " [0. 1. 0. 0.]\n",
      " [0. 0. 1. 0.]\n",
      " [0. 0. 0. 1.]]\n"
     ]
    }
   ],
   "source": [
    "# np.eye crete an identity matrix of size given in function argumetn\n",
    "\n",
    "a = np.eye(4)\n",
    "\n",
    "print(a)"
   ]
  },
  {
   "cell_type": "code",
   "execution_count": 9,
   "metadata": {},
   "outputs": [
    {
     "name": "stdout",
     "output_type": "stream",
     "text": [
      "[[0.34727615 0.27649257 0.58028773 0.10261339]\n",
      " [0.58006243 0.82589364 0.89422142 0.91121244]\n",
      " [0.47388589 0.00454732 0.05826141 0.61012832]]\n",
      "[ 0.70610658 -0.59455944  0.89737169 -1.13559536]\n"
     ]
    },
    {
     "data": {
      "text/plain": [
       "array([13, 12,  3])"
      ]
     },
     "execution_count": 9,
     "metadata": {},
     "output_type": "execute_result"
    }
   ],
   "source": [
    "# Create an array of the given shape and populate it with random samples from a uniform distribution over 0 to 1\n",
    "\n",
    "z = np.random.rand(3,4)\n",
    "\n",
    "print(z)\n",
    "\n",
    "# Return a sample (or samples) from the \"standard normal\" distribution. Unlike rand which is uniform\n",
    "\n",
    "x = np.random.randn(4)\n",
    "\n",
    "print(x)\n",
    "\n",
    "# return n random integers from low to high given in argument if not given n in argument then return only one random integer\n",
    "\n",
    "\n",
    "np.random.randint(2,20,3)"
   ]
  },
  {
   "cell_type": "code",
   "execution_count": 10,
   "metadata": {},
   "outputs": [
    {
     "name": "stdout",
     "output_type": "stream",
     "text": [
      "before reshape ...\n",
      "(2, 3)\n",
      "[[1 2 3]\n",
      " [4 5 6]]\n",
      "\n",
      "after reshape ...\n",
      "(3, 2)\n",
      "[[1 2]\n",
      " [3 4]\n",
      " [5 6]]\n"
     ]
    }
   ],
   "source": [
    "# Returns an array containing the same data with a new shape.\n",
    "\n",
    "a = np.array([[1, 2, 3], [4, 5,6]])\n",
    "\n",
    "print('before reshape ...')\n",
    "print(a.shape)\n",
    "print(a)\n",
    "\n",
    "\n",
    "print('\\nafter reshape ...')\n",
    "a = a.reshape((3,2))\n",
    "print(a.shape)\n",
    "print(a)"
   ]
  },
  {
   "cell_type": "code",
   "execution_count": 11,
   "metadata": {},
   "outputs": [
    {
     "name": "stdout",
     "output_type": "stream",
     "text": [
      "6\n",
      "1\n",
      "5\n",
      "0\n",
      "int32\n"
     ]
    }
   ],
   "source": [
    "print(a.max()) #return max value of array a\n",
    "\n",
    "print(a.min()) #return min value of array a\n",
    "\n",
    "print(a.argmax()) #return max value element's index of array a\n",
    "\n",
    "print(a.argmin()) #return min element's index of array a\n",
    "\n",
    "print(a.dtype) #dtype return data type of the object of an array"
   ]
  },
  {
   "cell_type": "code",
   "execution_count": 19,
   "metadata": {},
   "outputs": [
    {
     "name": "stdout",
     "output_type": "stream",
     "text": [
      "[ 0  1  2  3  4  5  6  7  8  9 10]\n",
      "[1 2 3 4]\n",
      "[ 0 50 50 50 50  5  6  7  8  9 10]\n"
     ]
    }
   ],
   "source": [
    "ar = np.arange(0,11)\n",
    "\n",
    "print(ar)\n",
    "\n",
    "x = ar[1:5]\n",
    "\n",
    "print(x)\n",
    "\n",
    "# Numpy arrays differ from a normal Python list because of their ability to broadcast\n",
    "\n",
    "ar[1:5] = 50\n",
    "\n",
    "print(ar)"
   ]
  },
  {
   "cell_type": "code",
   "execution_count": null,
   "metadata": {},
   "outputs": [],
   "source": [
    "# Indexing in 2D arrays\n",
    "\n",
    "array_2d = np.array([[1,2,3],[4,5,6],[7,8,9]])\n",
    "\n"
   ]
  }
 ],
 "metadata": {
  "kernelspec": {
   "display_name": "Python 3",
   "language": "python",
   "name": "python3"
  },
  "language_info": {
   "codemirror_mode": {
    "name": "ipython",
    "version": 3
   },
   "file_extension": ".py",
   "mimetype": "text/x-python",
   "name": "python",
   "nbconvert_exporter": "python",
   "pygments_lexer": "ipython3",
   "version": "3.10.11"
  },
  "orig_nbformat": 4
 },
 "nbformat": 4,
 "nbformat_minor": 2
}
